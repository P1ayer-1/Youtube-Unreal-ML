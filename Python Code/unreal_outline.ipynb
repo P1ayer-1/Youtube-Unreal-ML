{
 "cells": [
  {
   "cell_type": "code",
   "execution_count": 1,
   "metadata": {},
   "outputs": [],
   "source": [
    "import torch\n",
    "import torch.nn as nn"
   ]
  },
  {
   "cell_type": "code",
   "execution_count": 2,
   "metadata": {},
   "outputs": [],
   "source": [
    "class OtherNN(nn.Module):\n",
    "    def __init__(self, input_size, output_size):\n",
    "        super(OtherNN, self).__init__()\n",
    "        self.other = nn.Linear(input_size, output_size)\n",
    "    \n",
    "    def forward(self, x):\n",
    "        out = self.other(x)\n",
    "        return out"
   ]
  },
  {
   "cell_type": "code",
   "execution_count": 10,
   "metadata": {},
   "outputs": [],
   "source": [
    "class YoutubeNN(nn.Module):\n",
    "    def __init__(self, input_size, hidden_size, output_size, other_output_size):\n",
    "        super(YoutubeNN, self).__init__()\n",
    "        self.container = nn.Sequential(\n",
    "            nn.Linear(input_size, hidden_size),\n",
    "            nn.ReLU(),\n",
    "            nn.Linear(hidden_size, output_size),\n",
    "            OtherNN(output_size, other_output_size)\n",
    "        )\n",
    "\n",
    "        \n",
    "    def forward(self, x):\n",
    "        out = self.container(x)\n",
    "        return out"
   ]
  },
  {
   "cell_type": "code",
   "execution_count": 11,
   "metadata": {},
   "outputs": [],
   "source": [
    "model = YoutubeNN(4, 24, 10, 24)"
   ]
  },
  {
   "cell_type": "code",
   "execution_count": null,
   "metadata": {},
   "outputs": [],
   "source": [
    "def test_model(model): # keeping the same weird func name\n",
    "\n",
    "\n",
    "    # create optimizer\n",
    "    optimizer = torch.optim.SGD(model.parameters(), lr=0.001) # move this outside of the loop\n",
    "\n",
    "\n",
    "\n",
    "\n",
    "    inputs = [2.0, 2.0, 3.0, 4.0]\n",
    "\n",
    "    # make empty tensor\n",
    "    input_tensor = torch.empty(len(inputs))\n",
    "\n",
    "    # fill tensor with inputs\n",
    "    for i in range(len(inputs)):\n",
    "        input_tensor[i] = inputs[i]\n",
    "\n",
    "\n",
    "    # forward pass\n",
    "    output = model(input_tensor)\n",
    "\n",
    "    # call MSE with output. use output as target\n",
    "    loss = nn.MSELoss()(output, output)\n",
    "\n",
    "    # backward pass\n",
    "    loss.backward()\n",
    "\n",
    "    # update weights\n",
    "    optimizer.step()\n",
    "\n",
    "    # zero gradients\n",
    "    optimizer.zero_grad()"
   ]
  }
 ],
 "metadata": {
  "kernelspec": {
   "display_name": "textbooks-ds",
   "language": "python",
   "name": "python3"
  },
  "language_info": {
   "codemirror_mode": {
    "name": "ipython",
    "version": 3
   },
   "file_extension": ".py",
   "mimetype": "text/x-python",
   "name": "python",
   "nbconvert_exporter": "python",
   "pygments_lexer": "ipython3",
   "version": "3.10.12"
  }
 },
 "nbformat": 4,
 "nbformat_minor": 2
}
